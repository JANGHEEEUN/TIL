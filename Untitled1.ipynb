{
 "cells": [
  {
   "cell_type": "code",
   "execution_count": 28,
   "metadata": {},
   "outputs": [],
   "source": [
    "import tensorflow as tf\n",
    "import numpy as np\n",
    "import pandas as pd"
   ]
  },
  {
   "cell_type": "code",
   "execution_count": 29,
   "metadata": {},
   "outputs": [
    {
     "name": "stdout",
     "output_type": "stream",
     "text": [
      "Tensor(\"Add_6:0\", shape=(), dtype=int32)\n"
     ]
    }
   ],
   "source": [
    "a = tf.add(3,5)\n",
    "print(a)"
   ]
  },
  {
   "cell_type": "code",
   "execution_count": 30,
   "metadata": {},
   "outputs": [
    {
     "name": "stdout",
     "output_type": "stream",
     "text": [
      "8\n"
     ]
    }
   ],
   "source": [
    "a = tf.add(3,5)\n",
    "sess = tf.Session()\n",
    "print(sess.run(a))"
   ]
  },
  {
   "cell_type": "code",
   "execution_count": 31,
   "metadata": {},
   "outputs": [],
   "source": [
    "sess.close()"
   ]
  },
  {
   "cell_type": "code",
   "execution_count": 32,
   "metadata": {},
   "outputs": [
    {
     "name": "stdout",
     "output_type": "stream",
     "text": [
      "7776\n"
     ]
    }
   ],
   "source": [
    "x = 2\n",
    "y = 3\n",
    "op1 = tf.add(x,y)\n",
    "op2 = tf.multiply(x,y)\n",
    "# 필요하지 않은 연산인 op2 라인은 실행하지 않음\n",
    "op3 = tf.pow(op2, op1)\n",
    "\n",
    "with tf.Session() as sess:\n",
    "    op3 = sess.run(op3)\n",
    "    #만약 여러 tensor를 동시에 실행하고 싶으면 list로 전달\n",
    "    # op3, unsless = sess.run([op3, useless])\n",
    "    print(op3)\n",
    "\n",
    "# tensorflow 장점: op1.2를 실행하지 않아도 연결된 op3 실행만으로도 결과 얻을 수 있음"
   ]
  },
  {
   "cell_type": "code",
   "execution_count": 33,
   "metadata": {},
   "outputs": [],
   "source": [
    "import matplotlib.pyplot as plt\n",
    "from sklearn import datasets"
   ]
  },
  {
   "cell_type": "code",
   "execution_count": 34,
   "metadata": {},
   "outputs": [
    {
     "data": {
      "text/html": [
       "<div>\n",
       "<style scoped>\n",
       "    .dataframe tbody tr th:only-of-type {\n",
       "        vertical-align: middle;\n",
       "    }\n",
       "\n",
       "    .dataframe tbody tr th {\n",
       "        vertical-align: top;\n",
       "    }\n",
       "\n",
       "    .dataframe thead th {\n",
       "        text-align: right;\n",
       "    }\n",
       "</style>\n",
       "<table border=\"1\" class=\"dataframe\">\n",
       "  <thead>\n",
       "    <tr style=\"text-align: right;\">\n",
       "      <th></th>\n",
       "      <th>0</th>\n",
       "      <th>1</th>\n",
       "    </tr>\n",
       "  </thead>\n",
       "  <tbody>\n",
       "    <tr>\n",
       "      <th>0</th>\n",
       "      <td>4.98</td>\n",
       "      <td>24.0</td>\n",
       "    </tr>\n",
       "    <tr>\n",
       "      <th>1</th>\n",
       "      <td>9.14</td>\n",
       "      <td>21.6</td>\n",
       "    </tr>\n",
       "    <tr>\n",
       "      <th>2</th>\n",
       "      <td>4.03</td>\n",
       "      <td>34.7</td>\n",
       "    </tr>\n",
       "    <tr>\n",
       "      <th>3</th>\n",
       "      <td>2.94</td>\n",
       "      <td>33.4</td>\n",
       "    </tr>\n",
       "    <tr>\n",
       "      <th>4</th>\n",
       "      <td>5.33</td>\n",
       "      <td>36.2</td>\n",
       "    </tr>\n",
       "  </tbody>\n",
       "</table>\n",
       "</div>"
      ],
      "text/plain": [
       "      0     1\n",
       "0  4.98  24.0\n",
       "1  9.14  21.6\n",
       "2  4.03  34.7\n",
       "3  2.94  33.4\n",
       "4  5.33  36.2"
      ]
     },
     "execution_count": 34,
     "metadata": {},
     "output_type": "execute_result"
    }
   ],
   "source": [
    "x_data = datasets.load_boston().data[:, 12]\n",
    "y_data = datasets.load_boston().target\n",
    "df = pd.DataFrame([x_data, y_data]).transpose()\n",
    "df.head()"
   ]
  },
  {
   "cell_type": "code",
   "execution_count": 35,
   "metadata": {},
   "outputs": [],
   "source": [
    "#모델링\n",
    "w = tf.Variable(tf.random_normal([1]))\n",
    "b = tf.Variable(tf.random_normal([1]))\n",
    "#1은 랜덤하게 뽑아낼 대상\n",
    "#random_normal = parameter 쎄타에 대한 초기화\n",
    "\n",
    "y_predicted = w * x_data + b #모델\n",
    "\n",
    "loss = tf.reduce_mean(tf.square(y_predicted - y_data))\n",
    "#tf.square: 제곱함수<< ()안의 숫자를 통으로 제곱 != pow << pow는 (a,b) a를 b제곱\n",
    "#reduce_mean:\n",
    "optimizer = tf.train.GradientDescentOptimizer(0.001)\n",
    "#0.001: 하이퍼 파라미터 러닝 레이트\n",
    "train = optimizer.minimize(loss)\n",
    "#loss와 optimizer 결합"
   ]
  },
  {
   "cell_type": "code",
   "execution_count": 36,
   "metadata": {},
   "outputs": [
    {
     "name": "stdout",
     "output_type": "stream",
     "text": [
      "Step 0: w [-0.24949348] b [-0.33885223]\n",
      "loss 740.9442138671875\n",
      "\n",
      "Step 1000: w [0.34207478] b [13.03179]\n",
      "loss 150.21185302734375\n",
      "\n",
      "Step 2000: w [-0.15114954] b [21.247099]\n",
      "loss 81.19415283203125\n",
      "\n",
      "Step 3000: w [-0.45610142] b [26.326477]\n",
      "loss 54.81046676635742\n",
      "\n",
      "Step 4000: w [-0.6446497] b [29.467003]\n",
      "loss 44.72453689575195\n",
      "\n",
      "Step 5000: w [-0.7612263] b [31.408741]\n",
      "loss 40.86894607543945\n",
      "\n",
      "Step 6000: w [-0.8333029] b [32.609272]\n",
      "loss 39.39507293701172\n",
      "\n",
      "Step 7000: w [-0.87786704] b [33.35155]\n",
      "loss 38.831642150878906\n",
      "\n",
      "Step 8000: w [-0.9054198] b [33.81048]\n",
      "loss 38.61625289916992\n",
      "\n",
      "Step 9000: w [-0.9224552] b [34.094223]\n",
      "loss 38.5339241027832\n",
      "\n"
     ]
    }
   ],
   "source": [
    "with tf.Session() as sess:\n",
    "    sess.run(tf.global_variables_initializer()) #tf.variables 초기화\n",
    "    \n",
    "    for step in range(10000): #10000 = 에폭 개념\n",
    "        sess.run(train) # 실제로 나중엔 이 코드만 돌림\n",
    "        if step % 1000 == 0:\n",
    "            print('Step {}: w {} b {}'.format(step, sess.run(w), sess.run(b)))\n",
    "            print('loss {}'.format(sess.run(loss)))\n",
    "            print()\n",
    "    \n",
    "    w_out, b_out = sess.run([w,b])"
   ]
  },
  {
   "cell_type": "code",
   "execution_count": 37,
   "metadata": {},
   "outputs": [
    {
     "data": {
      "image/png": "[encoded data removed]",
      "text/plain": [
       "<Figure size 720x720 with 1 Axes>"
      ]
     },
     "metadata": {
      "needs_background": "light"
     },
     "output_type": "display_data"
    }
   ],
   "source": [
    "plt.figure(figsize = (10,10))\n",
    "plt.plot(x_data, y_data, 'bo', label = 'Real data')\n",
    "#bo = 원\n",
    "plt.plot(x_data, x_data * w_out + b_out, 'ro', label = 'Prediction')\n",
    "plt.legend()\n",
    "plt.show()"
   ]
  },
  {
   "cell_type": "code",
   "execution_count": null,
   "metadata": {},
   "outputs": [],
   "source": []
  },
  {
   "cell_type": "code",
   "execution_count": null,
   "metadata": {},
   "outputs": [],
   "source": []
  },
  {
   "cell_type": "code",
   "execution_count": 44,
   "metadata": {},
   "outputs": [],
   "source": [
    "import tensorflow as tf\n",
    "import numpy as np\n",
    "import pandas as pd\n",
    "import matplotlib.pyplot as plt\n",
    "from sklearn import datasets"
   ]
  },
  {
   "cell_type": "code",
   "execution_count": 45,
   "metadata": {},
   "outputs": [
    {
     "data": {
      "text/html": [
       "<div>\n",
       "<style scoped>\n",
       "    .dataframe tbody tr th:only-of-type {\n",
       "        vertical-align: middle;\n",
       "    }\n",
       "\n",
       "    .dataframe tbody tr th {\n",
       "        vertical-align: top;\n",
       "    }\n",
       "\n",
       "    .dataframe thead th {\n",
       "        text-align: right;\n",
       "    }\n",
       "</style>\n",
       "<table border=\"1\" class=\"dataframe\">\n",
       "  <thead>\n",
       "    <tr style=\"text-align: right;\">\n",
       "      <th></th>\n",
       "      <th>0</th>\n",
       "      <th>1</th>\n",
       "    </tr>\n",
       "  </thead>\n",
       "  <tbody>\n",
       "    <tr>\n",
       "      <th>0</th>\n",
       "      <td>4.98</td>\n",
       "      <td>24.0</td>\n",
       "    </tr>\n",
       "    <tr>\n",
       "      <th>1</th>\n",
       "      <td>9.14</td>\n",
       "      <td>21.6</td>\n",
       "    </tr>\n",
       "    <tr>\n",
       "      <th>2</th>\n",
       "      <td>4.03</td>\n",
       "      <td>34.7</td>\n",
       "    </tr>\n",
       "    <tr>\n",
       "      <th>3</th>\n",
       "      <td>2.94</td>\n",
       "      <td>33.4</td>\n",
       "    </tr>\n",
       "    <tr>\n",
       "      <th>4</th>\n",
       "      <td>5.33</td>\n",
       "      <td>36.2</td>\n",
       "    </tr>\n",
       "  </tbody>\n",
       "</table>\n",
       "</div>"
      ],
      "text/plain": [
       "      0     1\n",
       "0  4.98  24.0\n",
       "1  9.14  21.6\n",
       "2  4.03  34.7\n",
       "3  2.94  33.4\n",
       "4  5.33  36.2"
      ]
     },
     "execution_count": 45,
     "metadata": {},
     "output_type": "execute_result"
    }
   ],
   "source": [
    "x_data = datasets.load_boston().data[:, 12]\n",
    "y_data = datasets.load_boston().target\n",
    "df = pd.DataFrame([x_data, y_data]).transpose()\n",
    "df.head()"
   ]
  },
  {
   "cell_type": "code",
   "execution_count": 40,
   "metadata": {},
   "outputs": [],
   "source": [
    "_x_data = tf.reshape(x_data, [len(x_data), 1])\n",
    "\n",
    "W = tf.Variable(tf.random_normal([1,5], dtype = tf.float64))\n",
    "W_out = tf.Variable(tf.random_normal([5,1], dtype = tf.float64))\n",
    "# W의 5와 W_out의 5는 같음 >> 행렬 곱에서 W의 행과 W_out의 열이 같아야 가능\n",
    "\n",
    "hidden = tf.nn.sigmoid(tf.matmul(_x_data,W))\n",
    "output = tf.matmul(hidden, W_out)\n",
    "\n",
    "loss = tf.reduce_mean(tf.square(output - y_data))\n",
    "optimizer = tf.train.GradientDescentOptimizer(0.001)\n",
    "train = optimizer.minimize(loss)"
   ]
  },
  {
   "cell_type": "code",
   "execution_count": 41,
   "metadata": {},
   "outputs": [
    {
     "name": "stdout",
     "output_type": "stream",
     "text": [
      "Step 0 || loss : 525.8074823551038\n",
      "Step 5000 || loss : 84.43975776508499\n",
      "Step 10000 || loss : 84.43232577528237\n",
      "Step 15000 || loss : 84.42883510219416\n",
      "Step 20000 || loss : 84.42679319047082\n",
      "Step 25000 || loss : 84.42546021956738\n",
      "Step 30000 || loss : 84.42453225514109\n",
      "Step 35000 || loss : 84.42385864764984\n",
      "Step 40000 || loss : 84.42335462399056\n",
      "Step 45000 || loss : 84.42296799568643\n"
     ]
    }
   ],
   "source": [
    "with tf.Session() as sess:\n",
    "    sess.run(tf.global_variables_initializer()) #tf.variables 초기화\n",
    "    \n",
    "    for step in range(50000): \n",
    "        sess.run(train) # 실제로 나중엔 이 코드만 돌림\n",
    "        if step % 5000 == 0:\n",
    "            print('Step {} || loss : {}'.format(step, sess.run(loss)))\n",
    "            \n",
    "    output = sess.run(output)"
   ]
  },
  {
   "cell_type": "code",
   "execution_count": 42,
   "metadata": {},
   "outputs": [
    {
     "data": {
      "image/png": "[encoded data removed]",
      "text/plain": [
       "<Figure size 720x720 with 1 Axes>"
      ]
     },
     "metadata": {
      "needs_background": "light"
     },
     "output_type": "display_data"
    }
   ],
   "source": [
    "plt.figure(figsize = (10,10))\n",
    "plt.plot(x_data, y_data, 'bo', label = 'Real data')\n",
    "#bo = 원\n",
    "plt.plot(x_data,output, 'ro', label = 'Prediction')\n",
    "plt.legend()\n",
    "plt.show()"
   ]
  },
  {
   "cell_type": "code",
   "execution_count": null,
   "metadata": {},
   "outputs": [],
   "source": []
  },
  {
   "cell_type": "markdown",
   "metadata": {},
   "source": [
    "## 2 hidden Layer"
   ]
  },
  {
   "cell_type": "code",
   "execution_count": 26,
   "metadata": {},
   "outputs": [],
   "source": [
    "import tensorflow as tf\n",
    "import numpy as np\n",
    "import pandas as pd\n",
    "import matplotlib.pyplot as plt\n",
    "from sklearn import datasets"
   ]
  },
  {
   "cell_type": "code",
   "execution_count": 54,
   "metadata": {},
   "outputs": [],
   "source": [
    "_x_data = tf.reshape(x_data, [len(x_data), 1])\n",
    "_y_data = tf.reshape(y_data, [len(y_data), 1])"
   ]
  },
  {
   "cell_type": "code",
   "execution_count": 55,
   "metadata": {},
   "outputs": [],
   "source": [
    "W1 = tf.Variable(tf.random_normal([1, 5], dtype=tf.float64)) # [ # of x's columns, # of nodes in 1st hidden layer ]\n",
    "W2 = tf.Variable(tf.random_normal([5, 10], dtype=tf.float64)) # [ # of previous W's columns, # of nodes in 2nd hidden layer ]\n",
    "W_out = tf.Variable(tf.random_normal([10, 1], dtype=tf.float64)) # [ # of previous W's columns, # of y's columns ]"
   ]
  },
  {
   "cell_type": "code",
   "execution_count": 56,
   "metadata": {},
   "outputs": [],
   "source": [
    "hidden1 = tf.nn.elu(tf.matmul(_x_data, W1))\n",
    "hidden2 = tf.nn.elu(tf.matmul(hidden1, W2))\n",
    "output = tf.matmul(hidden2, W_out)"
   ]
  },
  {
   "cell_type": "code",
   "execution_count": 57,
   "metadata": {},
   "outputs": [
    {
     "name": "stdout",
     "output_type": "stream",
     "text": [
      "WARNING:tensorflow:From C:\\ProgramData\\Anaconda3\\lib\\site-packages\\tensorflow\\python\\ops\\losses\\losses_impl.py:667: to_float (from tensorflow.python.ops.math_ops) is deprecated and will be removed in a future version.\n",
      "Instructions for updating:\n",
      "Use tf.cast instead.\n"
     ]
    }
   ],
   "source": [
    "loss = tf.losses.mean_squared_error(output, _y_data) # tf.reduce_mean(tf.square(output - _y_data))\n",
    "optimizer = tf.train.AdamOptimizer(0.001)\n",
    "train = optimizer.minimize(loss)"
   ]
  },
  {
   "cell_type": "code",
   "execution_count": 58,
   "metadata": {},
   "outputs": [
    {
     "name": "stdout",
     "output_type": "stream",
     "text": [
      "Step 0 || Loss : 427.9744873046875\n",
      "Step 5000 || Loss : 38.50566482543945\n",
      "Step 10000 || Loss : 38.4847526550293\n",
      "Step 15000 || Loss : 38.48314666748047\n",
      "Step 20000 || Loss : 38.48299026489258\n",
      "Step 25000 || Loss : 38.48297119140625\n",
      "Step 30000 || Loss : 38.48297119140625\n",
      "Step 35000 || Loss : 38.48297119140625\n",
      "Step 40000 || Loss : 38.4830207824707\n",
      "Step 45000 || Loss : 38.48297119140625\n"
     ]
    }
   ],
   "source": [
    "with tf.Session() as sess:\n",
    "    sess.run(tf.global_variables_initializer()) \n",
    "\n",
    "    for step in range(50000):\n",
    "        sess.run(train)\n",
    "        if step % 5000 == 0:\n",
    "            print('Step {} || Loss : {}'.format(step, sess.run(loss)))\n",
    "\n",
    "    output = sess.run(output) "
   ]
  },
  {
   "cell_type": "code",
   "execution_count": 59,
   "metadata": {},
   "outputs": [
    {
     "data": {
      "image/png": "[encoded data removed]",
      "text/plain": [
       "<Figure size 720x720 with 1 Axes>"
      ]
     },
     "metadata": {
      "needs_background": "light"
     },
     "output_type": "display_data"
    }
   ],
   "source": [
    "plt.figure(figsize = (10,10))\n",
    "plt.plot(x_data, y_data, 'bo', label = 'Real data')\n",
    "#bo = 원\n",
    "plt.plot(x_data, output, 'ro', label = 'Prediction')\n",
    "plt.legend()\n",
    "plt.show()"
   ]
  },
  {
   "cell_type": "code",
   "execution_count": null,
   "metadata": {},
   "outputs": [],
   "source": []
  },
  {
   "cell_type": "code",
   "execution_count": null,
   "metadata": {},
   "outputs": [],
   "source": []
  },
  {
   "cell_type": "code",
   "execution_count": null,
   "metadata": {},
   "outputs": [],
   "source": []
  },
  {
   "cell_type": "code",
   "execution_count": null,
   "metadata": {},
   "outputs": [],
   "source": []
  },
  {
   "cell_type": "code",
   "execution_count": null,
   "metadata": {},
   "outputs": [],
   "source": []
  },
  {
   "cell_type": "code",
   "execution_count": null,
   "metadata": {},
   "outputs": [],
   "source": []
  }
 ],
 "metadata": {
  "kernelspec": {
   "display_name": "Python 3",
   "language": "python",
   "name": "python3"
  },
  "language_info": {
   "codemirror_mode": {
    "name": "ipython",
    "version": 3
   },
   "file_extension": ".py",
   "mimetype": "text/x-python",
   "name": "python",
   "nbconvert_exporter": "python",
   "pygments_lexer": "ipython3",
   "version": "3.7.3"
  }
 },
 "nbformat": 4,
 "nbformat_minor": 2
}
