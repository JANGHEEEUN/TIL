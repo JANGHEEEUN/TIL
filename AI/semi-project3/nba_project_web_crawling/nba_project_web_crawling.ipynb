{
 "cells": [
  {
   "cell_type": "code",
   "execution_count": 104,
   "metadata": {},
   "outputs": [],
   "source": [
    "import requests # from urllib.request import urlopen\n",
    "from bs4 import BeautifulSoup\n",
    "\n",
    "import pandas as pd\n",
    "from datetime import datetime \n",
    "import time # import time -> time.sleep(5)\n",
    "import re"
   ]
  },
  {
   "cell_type": "code",
   "execution_count": 105,
   "metadata": {},
   "outputs": [
    {
     "name": "stdout",
     "output_type": "stream",
     "text": [
      "https://www.basketball-reference.com/leagues/NBA_2019_games-october.html\n",
      "https://www.basketball-reference.com/leagues/NBA_2019_games-november.html\n",
      "https://www.basketball-reference.com/leagues/NBA_2019_games-december.html\n",
      "https://www.basketball-reference.com/leagues/NBA_2019_games-january.html\n",
      "https://www.basketball-reference.com/leagues/NBA_2019_games-february.html\n",
      "https://www.basketball-reference.com/leagues/NBA_2019_games-march.html\n",
      "************** 1151 1151 1151 1151\n"
     ]
    }
   ],
   "source": [
    "query = ['october', 'november', 'december', 'january', 'february', 'march']\n",
    "v_name_list = []\n",
    "v_score_list = []\n",
    "h_name_list = []\n",
    "h_score_list = []\n",
    "\n",
    "for i in query : \n",
    "    url = \"https://www.basketball-reference.com/leagues/NBA_2019_games-\" + i + \".html\"\n",
    "    web = requests.get(url).content\n",
    "    source = BeautifulSoup(web, 'html.parser')\n",
    "    print (url)\n",
    "    \n",
    "    find_visitor = source.find_all('td', {'data-stat' : 'visitor_team_name'})\n",
    "    find_v_score = source.find_all('td', {'data-stat' : 'visitor_pts'})\n",
    "    find_home = source.find_all('td', {'data-stat' : 'home_team_name'})\n",
    "    find_h_score = source.find_all('td', {'data-stat' : 'home_pts'})\n",
    "    \n",
    "    for i in range(len(find_visitor)) :\n",
    "        visitor_name =  find_visitor[i].text.strip().split('\\n')[0]\n",
    "        v_score = find_v_score[i].text.strip().split('\\n')[0]\n",
    "        home_name = find_home[i].text.strip().split('\\n')[0]\n",
    "        h_score = find_h_score[i].text.strip().split('\\n')[0]\n",
    "    \n",
    "        v_name_list.append(visitor_name)\n",
    "        h_name_list.append(home_name)\n",
    "        v_score_list.append(v_score)\n",
    "        h_score_list.append(h_score)\n",
    "        \n",
    "#print (v_name_list)\n",
    "#print (h_name_list)\n",
    "#print (v_score_list)\n",
    "#print (h_score_list)\n",
    "\n",
    "\n",
    "print (\"**************\", len(v_name_list), len(h_name_list), len(v_score_list), len(h_score_list))"
   ]
  },
  {
   "cell_type": "code",
   "execution_count": 95,
   "metadata": {},
   "outputs": [],
   "source": [
    "#tr = source.find('tr')\n",
    "#print (tr)\n",
    "\n",
    "#     find_visitor = source.find_all('td', {'data-stat' : 'visitor_team_name'})\n",
    "#     find_v_score = source.find_all('td', {'data-stat' : 'visitor_pts'})\n",
    "#     find_home = source.find_all('td', {'data-stat' : 'home_team_name'})\n",
    "#     find_h_score = source.find_all('td', {'data-stat' : 'home_pts'})\n",
    "\n",
    "# #print (visitor_score)\n",
    "\n",
    "#     for i in range(len(find_visitor)) :\n",
    "#         visitor_name =  find_visitor[i].text.strip().split('\\n')[0]\n",
    "#         v_score = find_v_score[i].text.strip().split('\\n')[0]\n",
    "#         home_name = find_home[i].text.strip().split('\\n')[0]\n",
    "#         h_score = find_h_score[i].text.strip().split('\\n')[0]\n",
    "    \n",
    "#         v_name_list.append(visitor_name)\n",
    "#         h_name_list.append(home_name)\n",
    "#         v_score_list.append(v_score)\n",
    "#         h_score_list.append(h_score)\n",
    "    \n",
    "#     print (v_name_list)\n",
    "#     print (h_name_list)\n",
    "#     print (v_score_list)\n",
    "#     print (h_score_list)\n"
   ]
  },
  {
   "cell_type": "code",
   "execution_count": 106,
   "metadata": {},
   "outputs": [],
   "source": [
    "basket_df = pd.DataFrame({'Home':h_name_list, 'Home_score':h_score_list, 'Visitor':v_name_list, 'Vistor_score':v_score_list})"
   ]
  },
  {
   "cell_type": "code",
   "execution_count": 107,
   "metadata": {},
   "outputs": [
    {
     "data": {
      "text/html": [
       "<div>\n",
       "<style scoped>\n",
       "    .dataframe tbody tr th:only-of-type {\n",
       "        vertical-align: middle;\n",
       "    }\n",
       "\n",
       "    .dataframe tbody tr th {\n",
       "        vertical-align: top;\n",
       "    }\n",
       "\n",
       "    .dataframe thead th {\n",
       "        text-align: right;\n",
       "    }\n",
       "</style>\n",
       "<table border=\"1\" class=\"dataframe\">\n",
       "  <thead>\n",
       "    <tr style=\"text-align: right;\">\n",
       "      <th></th>\n",
       "      <th>Home</th>\n",
       "      <th>Home_score</th>\n",
       "      <th>Visitor</th>\n",
       "      <th>Vistor_score</th>\n",
       "    </tr>\n",
       "  </thead>\n",
       "  <tbody>\n",
       "    <tr>\n",
       "      <th>0</th>\n",
       "      <td>Boston Celtics</td>\n",
       "      <td>105</td>\n",
       "      <td>Philadelphia 76ers</td>\n",
       "      <td>87</td>\n",
       "    </tr>\n",
       "    <tr>\n",
       "      <th>1</th>\n",
       "      <td>Golden State Warriors</td>\n",
       "      <td>108</td>\n",
       "      <td>Oklahoma City Thunder</td>\n",
       "      <td>100</td>\n",
       "    </tr>\n",
       "    <tr>\n",
       "      <th>2</th>\n",
       "      <td>Charlotte Hornets</td>\n",
       "      <td>112</td>\n",
       "      <td>Milwaukee Bucks</td>\n",
       "      <td>113</td>\n",
       "    </tr>\n",
       "    <tr>\n",
       "      <th>3</th>\n",
       "      <td>Detroit Pistons</td>\n",
       "      <td>103</td>\n",
       "      <td>Brooklyn Nets</td>\n",
       "      <td>100</td>\n",
       "    </tr>\n",
       "    <tr>\n",
       "      <th>4</th>\n",
       "      <td>Indiana Pacers</td>\n",
       "      <td>111</td>\n",
       "      <td>Memphis Grizzlies</td>\n",
       "      <td>83</td>\n",
       "    </tr>\n",
       "  </tbody>\n",
       "</table>\n",
       "</div>"
      ],
      "text/plain": [
       "                    Home Home_score                Visitor Vistor_score\n",
       "0         Boston Celtics        105     Philadelphia 76ers           87\n",
       "1  Golden State Warriors        108  Oklahoma City Thunder          100\n",
       "2      Charlotte Hornets        112        Milwaukee Bucks          113\n",
       "3        Detroit Pistons        103          Brooklyn Nets          100\n",
       "4         Indiana Pacers        111      Memphis Grizzlies           83"
      ]
     },
     "execution_count": 107,
     "metadata": {},
     "output_type": "execute_result"
    }
   ],
   "source": [
    "basket_df.head()\n"
   ]
  },
  {
   "cell_type": "code",
   "execution_count": 108,
   "metadata": {},
   "outputs": [],
   "source": [
    "#if you wnat to save\n",
    "#basket_df.to_csv('nba_project_rawdata.csv', encoding='utf-8')"
   ]
  },
  {
   "cell_type": "code",
   "execution_count": null,
   "metadata": {},
   "outputs": [],
   "source": []
  },
  {
   "cell_type": "code",
   "execution_count": null,
   "metadata": {},
   "outputs": [],
   "source": []
  },
  {
   "cell_type": "code",
   "execution_count": null,
   "metadata": {},
   "outputs": [],
   "source": []
  }
 ],
 "metadata": {
  "kernelspec": {
   "display_name": "Python 3",
   "language": "python",
   "name": "python3"
  },
  "language_info": {
   "codemirror_mode": {
    "name": "ipython",
    "version": 3
   },
   "file_extension": ".py",
   "mimetype": "text/x-python",
   "name": "python",
   "nbconvert_exporter": "python",
   "pygments_lexer": "ipython3",
   "version": "3.7.3"
  }
 },
 "nbformat": 4,
 "nbformat_minor": 2
}
