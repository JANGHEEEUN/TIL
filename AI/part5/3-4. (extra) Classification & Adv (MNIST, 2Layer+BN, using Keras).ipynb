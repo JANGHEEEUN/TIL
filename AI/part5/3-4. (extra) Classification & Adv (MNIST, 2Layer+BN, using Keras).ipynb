{
 "cells": [
  {
   "cell_type": "code",
   "execution_count": 13,
   "metadata": {},
   "outputs": [],
   "source": [
    "import tensorflow as tf\n",
    "from tensorflow.keras import datasets, utils\n",
    "from tensorflow.keras import models, layers, activations, initializers, losses, optimizers, metrics\n",
    "\n",
    "import os\n",
    "tf.logging.set_verbosity(tf.logging.ERROR)\n",
    "os.environ['TF_CPP_MIN_LOG_LEVEL'] = '2' # https://stackoverflow.com/questions/35911252/disable-tensorflow-debugging-information"
   ]
  },
  {
   "cell_type": "markdown",
   "metadata": {},
   "source": [
    "<br> \n",
    "\n",
    "#### 1. Prepare train & test data (MNIST)"
   ]
  },
  {
   "cell_type": "markdown",
   "metadata": {},
   "source": [
    "#### Train & Test split"
   ]
  },
  {
   "cell_type": "code",
   "execution_count": 14,
   "metadata": {},
   "outputs": [
    {
     "name": "stdout",
     "output_type": "stream",
     "text": [
      "(60000, 28, 28)\n",
      "(10000, 28, 28)\n",
      "uint8\n",
      "255\n"
     ]
    }
   ],
   "source": [
    "(train_data, train_label), (test_data, test_label) = datasets.mnist.load_data()\n",
    "\n",
    "print(train_data.shape) # # of training data == 60000, each data = 28px * 28px\n",
    "print(test_data.shape) # # of test data == 10000\n",
    "print(train_data.dtype) # int\n",
    "print(train_data.max()) # 0~255"
   ]
  },
  {
   "cell_type": "markdown",
   "metadata": {},
   "source": [
    "#### Normalization"
   ]
  },
  {
   "cell_type": "code",
   "execution_count": 15,
   "metadata": {},
   "outputs": [],
   "source": [
    "train_data = train_data.reshape(60000, 784).astype('float32') / 255.0 # 0~255 -> 0~1\n",
    "test_data = test_data.reshape(10000, 784).astype('float32') / 255.0 # 0~255 -> 0~1"
   ]
  },
  {
   "cell_type": "markdown",
   "metadata": {},
   "source": [
    "#### One-hot encoding"
   ]
  },
  {
   "cell_type": "code",
   "execution_count": 16,
   "metadata": {},
   "outputs": [],
   "source": [
    "train_label = utils.to_categorical(train_label) # 0~9 -> one-hot vector\n",
    "test_label = utils.to_categorical(test_label) # 0~9 -> one-hot vector"
   ]
  },
  {
   "cell_type": "markdown",
   "metadata": {},
   "source": [
    "<br> \n",
    "\n",
    "#### 2. Build the model & Set the criterion"
   ]
  },
  {
   "cell_type": "code",
   "execution_count": 17,
   "metadata": {},
   "outputs": [],
   "source": [
    "model = models.Sequential() \n",
    "\n",
    "model.add(layers.Dense(input_dim=28*28, units=256, activation=None, kernel_initializer=initializers.he_uniform())) \n",
    "#**나중에 가장 많이 손 댈 부분이 dense\n",
    "model.add(layers.BatchNormalization())\n",
    "model.add(layers.Activation('relu')) # layers.ELU or layers.LeakyReLU\n",
    "model.add(layers.Dropout(rate=0.2))\n",
    "\n",
    "model.add(layers.Dense(units=256, activation=None, kernel_initializer=initializers.he_uniform())) \n",
    "model.add(layers.BatchNormalization())\n",
    "model.add(layers.Activation('relu')) # layers.ELU or layers.LeakyReLU\n",
    "model.add(layers.Dropout(rate=0.2))\n",
    "\n",
    "model.add(layers.Dense(units=10, activation='softmax')) # 0~9 "
   ]
  },
  {
   "cell_type": "code",
   "execution_count": 18,
   "metadata": {},
   "outputs": [
    {
     "data": {
      "text/plain": [
       "<tensorflow.python.keras.optimizers.Adam at 0x2229862a588>"
      ]
     },
     "execution_count": 18,
     "metadata": {},
     "output_type": "execute_result"
    }
   ],
   "source": [
    "optimizers.Adam()\n",
    "# shift + tab\n",
    "#lr default가 0.001임을 확인"
   ]
  },
  {
   "cell_type": "code",
   "execution_count": 19,
   "metadata": {},
   "outputs": [],
   "source": [
    "model.compile(optimizer=optimizers.Adam(0.01), \n",
    "              loss=losses.categorical_crossentropy, \n",
    "              metrics=[metrics.categorical_accuracy]) "
   ]
  },
  {
   "cell_type": "markdown",
   "metadata": {},
   "source": [
    "<br> \n",
    "\n",
    "#### 3. Train the model"
   ]
  },
  {
   "cell_type": "code",
   "execution_count": 20,
   "metadata": {},
   "outputs": [
    {
     "name": "stdout",
     "output_type": "stream",
     "text": [
      "Train on 48000 samples, validate on 12000 samples\n",
      "Epoch 1/15\n",
      "48000/48000 [==============================] - 6s 134us/sample - loss: 0.2432 - categorical_accuracy: 0.9258 - val_loss: 0.1187 - val_categorical_accuracy: 0.9661\n",
      "Epoch 2/15\n",
      "48000/48000 [==============================] - 5s 101us/sample - loss: 0.1326 - categorical_accuracy: 0.9600 - val_loss: 0.0929 - val_categorical_accuracy: 0.9712\n",
      "Epoch 3/15\n",
      "48000/48000 [==============================] - 5s 104us/sample - loss: 0.1030 - categorical_accuracy: 0.9684 - val_loss: 0.0990 - val_categorical_accuracy: 0.9714\n",
      "Epoch 4/15\n",
      "48000/48000 [==============================] - 5s 107us/sample - loss: 0.0903 - categorical_accuracy: 0.9715 - val_loss: 0.0870 - val_categorical_accuracy: 0.9750\n",
      "Epoch 5/15\n",
      "48000/48000 [==============================] - 5s 107us/sample - loss: 0.0774 - categorical_accuracy: 0.9756 - val_loss: 0.0862 - val_categorical_accuracy: 0.9758\n",
      "Epoch 6/15\n",
      "48000/48000 [==============================] - 6s 129us/sample - loss: 0.0720 - categorical_accuracy: 0.9771 - val_loss: 0.0914 - val_categorical_accuracy: 0.9745\n",
      "Epoch 7/15\n",
      "48000/48000 [==============================] - 5s 114us/sample - loss: 0.0647 - categorical_accuracy: 0.9796 - val_loss: 0.0857 - val_categorical_accuracy: 0.9758\n",
      "Epoch 8/15\n",
      "48000/48000 [==============================] - 5s 107us/sample - loss: 0.0596 - categorical_accuracy: 0.9803 - val_loss: 0.0753 - val_categorical_accuracy: 0.9793\n",
      "Epoch 9/15\n",
      "48000/48000 [==============================] - 5s 108us/sample - loss: 0.0557 - categorical_accuracy: 0.9812 - val_loss: 0.0949 - val_categorical_accuracy: 0.9747\n",
      "Epoch 10/15\n",
      "48000/48000 [==============================] - 5s 106us/sample - loss: 0.0518 - categorical_accuracy: 0.9831 - val_loss: 0.0800 - val_categorical_accuracy: 0.9800\n",
      "Epoch 11/15\n",
      "48000/48000 [==============================] - 5s 106us/sample - loss: 0.0536 - categorical_accuracy: 0.9825 - val_loss: 0.0854 - val_categorical_accuracy: 0.9775\n",
      "Epoch 12/15\n",
      "48000/48000 [==============================] - 5s 107us/sample - loss: 0.0483 - categorical_accuracy: 0.9847 - val_loss: 0.0850 - val_categorical_accuracy: 0.9784\n",
      "Epoch 13/15\n",
      "48000/48000 [==============================] - 5s 112us/sample - loss: 0.0467 - categorical_accuracy: 0.9845 - val_loss: 0.0840 - val_categorical_accuracy: 0.9780\n",
      "Epoch 14/15\n",
      "48000/48000 [==============================] - 5s 107us/sample - loss: 0.0513 - categorical_accuracy: 0.9837 - val_loss: 0.0806 - val_categorical_accuracy: 0.9782\n",
      "Epoch 15/15\n",
      "48000/48000 [==============================] - 5s 109us/sample - loss: 0.0437 - categorical_accuracy: 0.9861 - val_loss: 0.0854 - val_categorical_accuracy: 0.9791\n"
     ]
    }
   ],
   "source": [
    "history = model.fit(train_data, train_label, batch_size=100, epochs=15, validation_split=0.2)\n",
    "#history에 담고 있음\n",
    "#validation: 좀 더 객관적으로 작동되게끔\n",
    "#fitting하는 과정을 history에 저장함"
   ]
  },
  {
   "cell_type": "markdown",
   "metadata": {},
   "source": [
    "<br> \n",
    "\n",
    "#### 4. Test the model"
   ]
  },
  {
   "cell_type": "code",
   "execution_count": 21,
   "metadata": {
    "scrolled": true
   },
   "outputs": [
    {
     "name": "stdout",
     "output_type": "stream",
     "text": [
      "10000/10000 [==============================] - 0s 44us/sample - loss: 0.0691 - categorical_accuracy: 0.9810\n",
      "loss (cross-entropy) : 0.069138893401514\n",
      "test accuracy : 0.981\n"
     ]
    }
   ],
   "source": [
    "result = model.evaluate(test_data, test_label, batch_size=100)\n",
    "\n",
    "print('loss (cross-entropy) :', result[0])\n",
    "print('test accuracy :', result[1])"
   ]
  },
  {
   "cell_type": "markdown",
   "metadata": {},
   "source": [
    "<br> \n",
    "\n",
    "#### 5. Visualize the result"
   ]
  },
  {
   "cell_type": "code",
   "execution_count": 22,
   "metadata": {},
   "outputs": [
    {
     "data": {
      "text/plain": [
       "dict_keys(['loss', 'categorical_accuracy', 'val_loss', 'val_categorical_accuracy'])"
      ]
     },
     "execution_count": 22,
     "metadata": {},
     "output_type": "execute_result"
    }
   ],
   "source": [
    "history.history.keys()\n",
    "# loss랑 matirx가 매번 계산되면서 history에 저장<<불러낼 수 있는 형태로"
   ]
  },
  {
   "cell_type": "code",
   "execution_count": 23,
   "metadata": {},
   "outputs": [
    {
     "data": {
      "image/png": "[encoded data removed]",
      "text/plain": [
       "<Figure size 432x288 with 1 Axes>"
      ]
     },
     "metadata": {
      "needs_background": "light"
     },
     "output_type": "display_data"
    }
   ],
   "source": [
    "val_acc = history.history['val_categorical_accuracy']\n",
    "acc = history.history['categorical_accuracy']\n",
    "\n",
    "import numpy as np\n",
    "import matplotlib.pyplot as plt\n",
    "\n",
    "x_len = np.arange(len(acc))\n",
    "plt.plot(x_len, acc, marker='.', c='blue', label=\"Train-set Acc.\")\n",
    "plt.plot(x_len, val_acc, marker='.', c='red', label=\"Validation-set Acc.\")\n",
    "\n",
    "plt.legend(loc='upper right')\n",
    "plt.grid()\n",
    "plt.xlabel('epoch')\n",
    "plt.ylabel('Accuracy')\n",
    "plt.show()"
   ]
  },
  {
   "cell_type": "code",
   "execution_count": null,
   "metadata": {},
   "outputs": [],
   "source": []
  }
 ],
 "metadata": {
  "kernel_info": {
   "name": "python3"
  },
  "kernelspec": {
   "display_name": "Python 3",
   "language": "python",
   "name": "python3"
  },
  "language_info": {
   "codemirror_mode": {
    "name": "ipython",
    "version": 3
   },
   "file_extension": ".py",
   "mimetype": "text/x-python",
   "name": "python",
   "nbconvert_exporter": "python",
   "pygments_lexer": "ipython3",
   "version": "3.7.3"
  },
  "nteract": {
   "version": "0.14.3"
  }
 },
 "nbformat": 4,
 "nbformat_minor": 2
}
